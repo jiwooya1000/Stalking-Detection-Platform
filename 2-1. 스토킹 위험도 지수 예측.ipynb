{
 "nbformat": 4,
 "nbformat_minor": 0,
 "metadata": {
  "colab": {
   "provenance": [],
   "authorship_tag": "ABX9TyPDAHyQd3d41ytCNBeU8OFP"
  },
  "kernelspec": {
   "name": "python3",
   "display_name": "Python 3"
  },
  "language_info": {
   "name": "python"
  },
  "accelerator": "GPU",
  "gpuClass": "standard"
 },
 "cells": [
  {
   "cell_type": "markdown",
   "source": [
    "# **2-1. 스토킹 위험도 지수 예측**"
   ],
   "metadata": {
    "id": "Kl03e16-7Ma3",
    "pycharm": {
     "name": "#%% md\n"
    }
   }
  },
  {
   "cell_type": "markdown",
   "source": [
    "---\n",
    "> 1-2에서 학습한 설문조사 임베딩 모델을 기반으로 스토킹 잠재/가해자 분류 모델을 학습합니다.\n",
    "\n",
    "> 해석을 최우선 목표로 하고 있기 때문에, 스토킹 잠재/가해 여부 판별에 있어 어떤 문항이 어느 정도 기여했는지, 어떤 문항의 어떤 단어들이 얼마나 기여했는지 Attention을 통해 학습니다.\n",
    "---"
   ],
   "metadata": {
    "id": "f07iiTK77Paj",
    "pycharm": {
     "name": "#%% md\n"
    }
   }
  },
  {
   "cell_type": "code",
   "source": [
    "# 드라이브 내 Custom Module 및 .ipynb 파일, 그리고 학습 데이터를 저장한 Directory를 입력하세요.\n",
    "# 설문조사는 총 11개 문항으로 이루어져 있습니다. 학습을 원하는 문항의 번호를 입력하세요.\n",
    "\n",
    "DIRECTORY = \"AI경진대회\" # 여기를 변경하세요."
   ],
   "metadata": {
    "id": "5R8UTVRL8ktj",
    "executionInfo": {
     "status": "ok",
     "timestamp": 1668605055717,
     "user_tz": -540,
     "elapsed": 3,
     "user": {
      "displayName": "홍지우",
      "userId": "09687386104869736535"
     }
    },
    "pycharm": {
     "name": "#%%\n"
    }
   },
   "execution_count": 1,
   "outputs": []
  },
  {
   "cell_type": "markdown",
   "source": [
    "## **(1) 라이브러리 준비**"
   ],
   "metadata": {
    "id": "S9EOC7M18YtI",
    "pycharm": {
     "name": "#%% md\n"
    }
   }
  },
  {
   "cell_type": "code",
   "execution_count": null,
   "metadata": {
    "id": "aEqv1Lip7I7G",
    "pycharm": {
     "name": "#%%\n"
    }
   },
   "outputs": [],
   "source": [
    "# Google Colab을 기반으로 학습을 진행할 경우, BERT 계열의 모델을 사용하기 위해 필요한 라이브러리를 설치합니다.\n",
    "\n",
    "!pip install mxnet\n",
    "!pip install gluonnlp pandas tqdm\n",
    "!pip install sentencepiece\n",
    "!pip install transformers==3.0.2\n",
    "!pip install torch\n",
    "!pip install git+https://git@github.com/SKTBrain/KoBERT.git@master\n",
    "!pip install 'git+https://github.com/SKTBrain/KoBERT.git#egg=kobert_tokenizer&subdirectory=kobert_hf'\n",
    "!pip install torchmetrics"
   ]
  },
  {
   "cell_type": "code",
   "source": [
    "import torch\n",
    "import time\n",
    "import os\n",
    "import pickle\n",
    "import random\n",
    "import pandas as pd\n",
    "import numpy as np\n",
    "import torch.nn as nn\n",
    "import torch.optim as optim\n",
    "import torch.nn.functional as F\n",
    "import gluonnlp as nlp\n",
    "import matplotlib.pyplot as plt\n",
    "import seaborn as sns\n",
    "from tqdm import tqdm\n",
    "from kobert_tokenizer import KoBERTTokenizer\n",
    "from transformers import BertTokenizer, BertModel, AutoModel, AutoTokenizer\n",
    "from kobert import get_pytorch_kobert_model"
   ],
   "metadata": {
    "id": "44vYSNBG8WoV",
    "executionInfo": {
     "status": "ok",
     "timestamp": 1668605103133,
     "user_tz": -540,
     "elapsed": 2717,
     "user": {
      "displayName": "홍지우",
      "userId": "09687386104869736535"
     }
    },
    "pycharm": {
     "name": "#%%\n"
    }
   },
   "execution_count": 3,
   "outputs": []
  },
  {
   "cell_type": "markdown",
   "source": [
    "## **(2) Drive Mount 및 Custom Module 불러오기**"
   ],
   "metadata": {
    "id": "wvlCqmlV8c4F",
    "pycharm": {
     "name": "#%% md\n"
    }
   }
  },
  {
   "cell_type": "code",
   "source": [
    "# Drive Mount\n",
    "from google.colab import drive\n",
    "drive.mount('/content/gdrive')\n",
    "\n",
    "# Directory 변경\n",
    "path = \"/content/gdrive/My Drive/\" + DIRECTORY\n",
    "os.chdir(path)"
   ],
   "metadata": {
    "id": "H7RgEP728iUr",
    "colab": {
     "base_uri": "https://localhost:8080/"
    },
    "executionInfo": {
     "status": "ok",
     "timestamp": 1668605105364,
     "user_tz": -540,
     "elapsed": 2236,
     "user": {
      "displayName": "홍지우",
      "userId": "09687386104869736535"
     }
    },
    "outputId": "df7aadc6-c674-4ff5-bee3-e1b6832108a1",
    "pycharm": {
     "name": "#%%\n"
    }
   },
   "execution_count": 4,
   "outputs": [
    {
     "output_type": "stream",
     "name": "stdout",
     "text": [
      "Drive already mounted at /content/gdrive; to attempt to forcibly remount, call drive.mount(\"/content/gdrive\", force_remount=True).\n"
     ]
    }
   ]
  },
  {
   "cell_type": "code",
   "source": [
    "device = torch.device('cuda' if torch.cuda.is_available() else 'cpu')"
   ],
   "metadata": {
    "id": "sTaWtY99_vYU",
    "executionInfo": {
     "status": "ok",
     "timestamp": 1668605105365,
     "user_tz": -540,
     "elapsed": 5,
     "user": {
      "displayName": "홍지우",
      "userId": "09687386104869736535"
     }
    },
    "pycharm": {
     "name": "#%%\n"
    }
   },
   "execution_count": 5,
   "outputs": []
  },
  {
   "cell_type": "code",
   "source": [
    "from dataset import Tester\n",
    "from model import NewSE, Stalking, NewSE2, Predictor"
   ],
   "metadata": {
    "id": "rukyNJXM9IqS",
    "executionInfo": {
     "status": "ok",
     "timestamp": 1668605105694,
     "user_tz": -540,
     "elapsed": 333,
     "user": {
      "displayName": "홍지우",
      "userId": "09687386104869736535"
     }
    },
    "pycharm": {
     "name": "#%%\n"
    }
   },
   "execution_count": 6,
   "outputs": []
  },
  {
   "cell_type": "markdown",
   "source": [
    "## **(3) 데이터셋 불러오기**"
   ],
   "metadata": {
    "id": "nliQb69b9jBc",
    "pycharm": {
     "name": "#%% md\n"
    }
   }
  },
  {
   "cell_type": "code",
   "source": [
    "# 데이터셋 준비\n",
    "\n",
    "data = pd.read_csv('./DATA/Luv.D/경진대회 데이터_수정본.csv')"
   ],
   "metadata": {
    "id": "GEbAZ7e09jUi",
    "executionInfo": {
     "status": "ok",
     "timestamp": 1668605106360,
     "user_tz": -540,
     "elapsed": 668,
     "user": {
      "displayName": "홍지우",
      "userId": "09687386104869736535"
     }
    },
    "pycharm": {
     "name": "#%%\n"
    }
   },
   "execution_count": 7,
   "outputs": []
  },
  {
   "cell_type": "code",
   "source": [
    "# Train/Valid 데이터에 대해 Label Encoding\n",
    "\n",
    "temp = []\n",
    "\n",
    "for i in range(data.shape[0]):\n",
    "    if (data.loc[i, 'warning'] == 1) or (data.loc[i, 'warning'] == 2):\n",
    "        temp.append(1)\n",
    "    else:\n",
    "        temp.append(0)\n",
    "\n",
    "data['warning'] = temp\n",
    "\n",
    "temp = []\n",
    "\n",
    "for i in range(data.shape[0]):\n",
    "    if data.loc[i, 'status'] == '상':\n",
    "        temp.append(2)\n",
    "    elif data.loc[i, 'status'] == '하':\n",
    "        temp.append(1)\n",
    "    else:\n",
    "        temp.append(0)\n",
    "\n",
    "data['status'] = temp"
   ],
   "metadata": {
    "id": "tyaz4JFl94Z9",
    "executionInfo": {
     "status": "ok",
     "timestamp": 1668605106776,
     "user_tz": -540,
     "elapsed": 419,
     "user": {
      "displayName": "홍지우",
      "userId": "09687386104869736535"
     }
    },
    "pycharm": {
     "name": "#%%\n"
    }
   },
   "execution_count": 8,
   "outputs": []
  },
  {
   "cell_type": "code",
   "source": [
    "data = data.dropna(axis=0).reset_index(drop=True)\n",
    "data.shape"
   ],
   "metadata": {
    "colab": {
     "base_uri": "https://localhost:8080/"
    },
    "id": "L4rfu6pXdtup",
    "executionInfo": {
     "status": "ok",
     "timestamp": 1668605106776,
     "user_tz": -540,
     "elapsed": 4,
     "user": {
      "displayName": "홍지우",
      "userId": "09687386104869736535"
     }
    },
    "outputId": "666faae7-aa39-47ef-caa5-ea464a11ff55",
    "pycharm": {
     "name": "#%%\n"
    }
   },
   "execution_count": 9,
   "outputs": [
    {
     "output_type": "execute_result",
     "data": {
      "text/plain": [
       "(8725, 14)"
      ]
     },
     "metadata": {},
     "execution_count": 9
    }
   ]
  },
  {
   "cell_type": "markdown",
   "source": [
    "## **(4) KcELECTRA, Tokenizer 불러오기**"
   ],
   "metadata": {
    "id": "2o0j0y-J_cou",
    "pycharm": {
     "name": "#%% md\n"
    }
   }
  },
  {
   "cell_type": "code",
   "source": [
    "# KcELECTRA, Tokenizer\n",
    "\n",
    "tokenizer = AutoTokenizer.from_pretrained(\"beomi/KcELECTRA-base-v2022\")\n",
    "kc_model = AutoModel.from_pretrained(\"beomi/KcELECTRA-base-v2022\")\n",
    "\n",
    "kc_model = kc_model.cuda()"
   ],
   "metadata": {
    "id": "FGuJ29Cw_bbw",
    "colab": {
     "base_uri": "https://localhost:8080/"
    },
    "executionInfo": {
     "status": "ok",
     "timestamp": 1668605117822,
     "user_tz": -540,
     "elapsed": 11048,
     "user": {
      "displayName": "홍지우",
      "userId": "09687386104869736535"
     }
    },
    "outputId": "464ac7f2-24d2-48fa-d3d9-3549a9939ed5",
    "pycharm": {
     "name": "#%%\n"
    }
   },
   "execution_count": 10,
   "outputs": [
    {
     "output_type": "stream",
     "name": "stderr",
     "text": [
      "Some weights of the model checkpoint at beomi/KcELECTRA-base-v2022 were not used when initializing ElectraModel: ['discriminator_predictions.dense_prediction.bias', 'discriminator_predictions.dense.weight', 'discriminator_predictions.dense_prediction.weight', 'discriminator_predictions.dense.bias']\n",
      "- This IS expected if you are initializing ElectraModel from the checkpoint of a model trained on another task or with another architecture (e.g. initializing a BertForSequenceClassification model from a BertForPreTraining model).\n",
      "- This IS NOT expected if you are initializing ElectraModel from the checkpoint of a model that you expect to be exactly identical (initializing a BertForSequenceClassification model from a BertForSequenceClassification model).\n"
     ]
    }
   ]
  },
  {
   "cell_type": "markdown",
   "source": [
    "## **(5) DataLoader 준비**"
   ],
   "metadata": {
    "id": "4zccCzIS_mLc",
    "pycharm": {
     "name": "#%% md\n"
    }
   }
  },
  {
   "cell_type": "code",
   "source": [
    "# Dataset\n",
    "\n",
    "dataset = Tester(tokenizer=tokenizer, embed_model=kc_model, data=data)#, device=device)"
   ],
   "metadata": {
    "id": "nukv_FMY_tTA",
    "executionInfo": {
     "status": "ok",
     "timestamp": 1668605117822,
     "user_tz": -540,
     "elapsed": 14,
     "user": {
      "displayName": "홍지우",
      "userId": "09687386104869736535"
     }
    },
    "pycharm": {
     "name": "#%%\n"
    }
   },
   "execution_count": 11,
   "outputs": []
  },
  {
   "cell_type": "code",
   "source": [
    "# DataLoader\n",
    "\n",
    "BATCH_SIZE=64\n",
    "\n",
    "dataloader = torch.utils.data.DataLoader(dataset, batch_size=BATCH_SIZE, shuffle=False, drop_last=True)"
   ],
   "metadata": {
    "id": "djLrlmXz__Pe",
    "executionInfo": {
     "status": "ok",
     "timestamp": 1668605117822,
     "user_tz": -540,
     "elapsed": 13,
     "user": {
      "displayName": "홍지우",
      "userId": "09687386104869736535"
     }
    },
    "pycharm": {
     "name": "#%%\n"
    }
   },
   "execution_count": 12,
   "outputs": []
  },
  {
   "cell_type": "markdown",
   "source": [
    "## **(6) 모델 생성**"
   ],
   "metadata": {
    "id": "4vwsGGt2AD8o",
    "pycharm": {
     "name": "#%% md\n"
    }
   }
  },
  {
   "cell_type": "code",
   "source": [
    "# Model (정신건강 분류)\n",
    "\n",
    "mentality_model = NewSE2(num_layers=2,\n",
    "                         embedding_size=768,\n",
    "                         hidden_size=384,\n",
    "                         attention_dim=512,\n",
    "                         keys=30,\n",
    "                         fc_dim=512,\n",
    "                         batch_size=25)\n",
    "\n",
    "mentality_model.load_state_dict(torch.load('./TRAINED_MODEL/MENTAL/mentality_test.pt', map_location=device))"
   ],
   "metadata": {
    "id": "zOYzJJu1AGFz",
    "colab": {
     "base_uri": "https://localhost:8080/"
    },
    "executionInfo": {
     "status": "ok",
     "timestamp": 1668605118772,
     "user_tz": -540,
     "elapsed": 962,
     "user": {
      "displayName": "홍지우",
      "userId": "09687386104869736535"
     }
    },
    "outputId": "c8236f8e-b60c-4f20-e2a0-1cfa0fdb7d5a",
    "pycharm": {
     "name": "#%%\n"
    }
   },
   "execution_count": 13,
   "outputs": [
    {
     "output_type": "execute_result",
     "data": {
      "text/plain": [
       "<All keys matched successfully>"
      ]
     },
     "metadata": {},
     "execution_count": 13
    }
   ]
  },
  {
   "cell_type": "code",
   "source": [
    "# Model (Classifier)\n",
    "\n",
    "stalking_model = Stalking(device=device, model_path='./TRAINED_MODEL/SE', batch_size=64)\n",
    "stalking_model.load_state_dict(torch.load('./TRAINED_MODEL/Classifier/stalking_detection.pt'))"
   ],
   "metadata": {
    "colab": {
     "base_uri": "https://localhost:8080/"
    },
    "id": "gVgLGNn5Y0Tg",
    "executionInfo": {
     "status": "ok",
     "timestamp": 1668605122193,
     "user_tz": -540,
     "elapsed": 3422,
     "user": {
      "displayName": "홍지우",
      "userId": "09687386104869736535"
     }
    },
    "outputId": "3a26d55a-2ea4-418c-fbfa-4076550bdc67",
    "pycharm": {
     "name": "#%%\n"
    }
   },
   "execution_count": 14,
   "outputs": [
    {
     "output_type": "execute_result",
     "data": {
      "text/plain": [
       "<All keys matched successfully>"
      ]
     },
     "metadata": {},
     "execution_count": 14
    }
   ]
  },
  {
   "cell_type": "code",
   "source": [
    "# 스토킹 위험도 지수 출력 Class\n",
    "\n",
    "validate = Predictor(mentality_model=mentality_model,\n",
    "                     stalking_model=stalking_model,\n",
    "                     batch_size=BATCH_SIZE)"
   ],
   "metadata": {
    "id": "2dqFvOxZZ-xV",
    "executionInfo": {
     "status": "ok",
     "timestamp": 1668605122599,
     "user_tz": -540,
     "elapsed": 410,
     "user": {
      "displayName": "홍지우",
      "userId": "09687386104869736535"
     }
    },
    "pycharm": {
     "name": "#%%\n"
    }
   },
   "execution_count": 15,
   "outputs": []
  },
  {
   "cell_type": "markdown",
   "source": [
    "## **(7) 스토킹 위험 지수 확인**"
   ],
   "metadata": {
    "id": "VpStyjxGiAkL",
    "pycharm": {
     "name": "#%% md\n"
    }
   }
  },
  {
   "cell_type": "code",
   "source": [
    "final = []\n",
    "\n",
    "for i, dict in enumerate(dataloader):\n",
    "    last = dict['last'].to(device=device, dtype=torch.float32)\n",
    "    reason = dict['reason'].to(device=device, dtype=torch.float32)\n",
    "    action = dict['action'].to(device=device, dtype=torch.float32)\n",
    "    try_ = dict['try'].to(device=device, dtype=torch.float32)\n",
    "    reaction = dict['reaction'].to(device=device, dtype=torch.float32)\n",
    "    charmingCustomer = dict['charmingCustomer'].to(device=device, dtype=torch.float32)\n",
    "    relation = dict['relation'].to(device=device, dtype=torch.float32)\n",
    "    targets = dict['target'].to(device=device, dtype=torch.int32)\n",
    "\n",
    "    result = validate.predict(last, reason, action, try_, reaction, charmingCustomer, relation)\n",
    "    \n",
    "    final.extend(result.squeeze(1).cpu().detach().numpy().tolist())"
   ],
   "metadata": {
    "id": "IuhCrmE8cNP_",
    "pycharm": {
     "name": "#%%\n"
    }
   },
   "execution_count": null,
   "outputs": []
  },
  {
   "cell_type": "markdown",
   "source": [
    "## **(8) 학습 결과 시각화**"
   ],
   "metadata": {
    "id": "ZhsksCRrAdBS",
    "pycharm": {
     "name": "#%% md\n"
    }
   }
  },
  {
   "cell_type": "code",
   "source": [
    "# 시각화\n",
    "\n",
    "f, ax = plt.subplots(figsize=(15, 5))\n",
    "plt.title(\"Stalking Danger Rate\", fontsize=15, weight='bold')\n",
    "plt.xlabel('Rate')\n",
    "sns.kdeplot(final)\n",
    "plt.legend()\n",
    "plt.grid(True)"
   ],
   "metadata": {
    "id": "4sLd70joAQi_",
    "colab": {
     "base_uri": "https://localhost:8080/",
     "height": 359
    },
    "executionInfo": {
     "status": "ok",
     "timestamp": 1668605212351,
     "user_tz": -540,
     "elapsed": 483,
     "user": {
      "displayName": "홍지우",
      "userId": "09687386104869736535"
     }
    },
    "outputId": "86a96514-3d52-444c-fbbc-9e255845d423",
    "pycharm": {
     "name": "#%%\n"
    }
   },
   "execution_count": 22,
   "outputs": [
    {
     "output_type": "stream",
     "name": "stderr",
     "text": [
      "WARNING:matplotlib.legend:No handles with labels found to put in legend.\n"
     ]
    },
    {
     "output_type": "display_data",
     "data": {
      "text/plain": [
       "<Figure size 1080x360 with 1 Axes>"
      ],
      "image/png": "[encoded data removed]"
     },
     "metadata": {
      "needs_background": "light"
     }
    }
   ]
  }
 ]
}